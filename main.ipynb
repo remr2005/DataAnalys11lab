{
 "cells": [
  {
   "cell_type": "markdown",
   "metadata": {},
   "source": [
    "Выбрать на kaggle.com датасет с неразмеченными данными.\n",
    "\n",
    "Перевести все значения признаков в числа и шкалировать.\n",
    "\n",
    "Произвести кластеризацию по методу k-средних на оптимальное для этого датасета число кластеров.\n",
    "\n",
    "Произвести восходящую кластеризацию. \n",
    "\n",
    "Сравнить результаты\n"
   ]
  },
  {
   "cell_type": "code",
   "execution_count": null,
   "metadata": {
    "vscode": {
     "languageId": "plaintext"
    }
   },
   "outputs": [],
   "source": [
    "from tensorflow.keras.datasets import mnist\n",
    "import numpy as np\n",
    "from PIL import Image\n",
    "\n",
    "def resize_images(images, size=(10, 10)):\n",
    "    resized_images = np.array([np.array(Image.fromarray(img).resize(size, Image.ANTIALIAS)) for img in images])\n",
    "    return resized_images\n",
    "\n",
    "# Загрузка набора данных MNIST\n",
    "(train_images, train_labels), (test_images, test_labels) = mnist.load_data()\n",
    "\n",
    "# Изменение размера на 10x10\n",
    "train_images_resized = resize_images(train_images, (10, 10))\n",
    "test_images_resized = resize_images(test_images, (10, 10))\n",
    "\n",
    "# Теперь `train_images_resized` и `test_images_resized` содержат изображения размером 10x10\n"
   ]
  }
 ],
 "metadata": {
  "language_info": {
   "name": "python"
  }
 },
 "nbformat": 4,
 "nbformat_minor": 2
}
