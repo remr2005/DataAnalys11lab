{
 "cells": [
  {
   "cell_type": "markdown",
   "metadata": {},
   "source": [
    "1. Сгенерируйте текст о Data Science, пользуясь любым источником достаточного объема и триграммной моделью. \n",
    "\n",
    "2. Выполните предыдущее упражнение с использованием текста с длинными предложениями и 4-граммной модели. Оцените видимые изменения."
   ]
  },
  {
   "cell_type": "code",
   "execution_count": null,
   "metadata": {
    "vscode": {
     "languageId": "plaintext"
    }
   },
   "outputs": [],
   "source": [
    "\"\"\"Imports\"\"\"\n",
    "from collections import defaultdict\n",
    "import random\n",
    "from nltk.tokenize import word_tokenize\n",
    "\n",
    "\n",
    "def ngram(text: str, n: int = 3) -> str:\n",
    "    \"\"\"\n",
    "    Function for calculation ngram\n",
    "    \"\"\"\n",
    "    words = word_tokenize(text)\n",
    "    ngrams = zip(*[words[i:] for i in range(n)])\n",
    "    trans = defaultdict(list)\n",
    "    init = []\n",
    "    for i in ngrams:\n",
    "        if i[0] == '.':\n",
    "            init.append(i[1:n-1])\n",
    "        trans[i[0:n-1]].append(i[-1])\n",
    "    result = random.choice(init)\n",
    "    fr = ['.']\n",
    "    res_true = [result[0]]\n",
    "    while True:\n",
    "        candidates = trans[tuple(fr + list(result))]\n",
    "        next_word = random.choice(candidates)\n",
    "        fr = [result[0]]\n",
    "        result = list(result[1:]) + [next_word]\n",
    "        res_true.append(result[0])\n",
    "        if result[0] == '.':\n",
    "            return \" \".join(res_true)\n",
    "\n",
    "\n",
    "def main() -> None:\n",
    "    \"\"\"\n",
    "    main function\n",
    "    \"\"\"\n",
    "    with open(\"data.txt\", \"r+\", encoding=\"UTF8\") as f:\n",
    "        text = f.read()\n",
    "        print(f\"Trigram {ngram(text, 3)}\")\n",
    "        print(f\"Fourgram {ngram(text, 4)}\")\n",
    "\n",
    "\n",
    "if __name__ == \"__main__\":\n",
    "    main()\n"
   ]
  }
 ],
 "metadata": {
  "language_info": {
   "name": "python"
  }
 },
 "nbformat": 4,
 "nbformat_minor": 2
}
